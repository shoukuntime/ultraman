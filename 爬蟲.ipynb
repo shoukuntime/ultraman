{
 "cells": [
  {
   "cell_type": "code",
   "execution_count": 75,
   "id": "fffc54d1",
   "metadata": {
    "scrolled": true
   },
   "outputs": [],
   "source": [
    "from tools import get_soup\n",
    "import pandas as pd\n",
    "url='http://127.0.0.1:5500/test.html'\n",
    "soup=get_soup(url)\n",
    "sorts=soup.find_all('div',id='sort')\n",
    "datas=[]\n",
    "for sort in sorts:\n",
    "    title=sort.find('div',class_='title').text\n",
    "    data=[]\n",
    "    quiz=sort.find_all('p')\n",
    "    for i in range(100):\n",
    "        p=quiz[i*3+1].text\n",
    "        data.append([title,quiz[i*3].text[3:].strip(' '),p.split(') ')[1][:-1],p.split(') ')[2][:-1],p.split(') ')[3][:-1],p.split(') ')[4],quiz[i*3+2].text[4]])\n",
    "    datas.extend(data)\n",
    "datas\n",
    "df=pd.DataFrame(datas,columns=['種類','題目','A','B','C','D','答案'])\n",
    "df\n",
    "df.to_csv(\"ウルトラマン_クイズ.csv\",encoding=\"utf-8-sig\")"
   ]
  },
  {
   "cell_type": "code",
   "execution_count": null,
   "id": "03a9bda6",
   "metadata": {},
   "outputs": [],
   "source": []
  }
 ],
 "metadata": {
  "kernelspec": {
   "display_name": "Python 3 (ipykernel)",
   "language": "python",
   "name": "python3"
  },
  "language_info": {
   "codemirror_mode": {
    "name": "ipython",
    "version": 3
   },
   "file_extension": ".py",
   "mimetype": "text/x-python",
   "name": "python",
   "nbconvert_exporter": "python",
   "pygments_lexer": "ipython3",
   "version": "3.11.5"
  }
 },
 "nbformat": 4,
 "nbformat_minor": 5
}
